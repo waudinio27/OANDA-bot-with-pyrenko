{
 "cells": [
  {
   "cell_type": "code",
   "execution_count": 1,
   "metadata": {},
   "outputs": [],
   "source": [
    "import numpy as np\n",
    "import scipy.optimize as opt\n",
    "from sklearn.utils import resample\n",
    "import matplotlib.pyplot as plt\n",
    "import datetime as dt\n",
    "from dateutil.relativedelta import relativedelta\n",
    "import pyrenko\n",
    "import pandas as pd\n",
    "import talib\n",
    "\n",
    "#ignoring warnings\n",
    "import warnings\n",
    "warnings.simplefilter('ignore')\n",
    "\n",
    "#importing neccesary modules\n",
    "import sys\n",
    "import pandas as pd\n",
    "import numpy as np\n",
    "import matplotlib.dates as mdates\n",
    "from matplotlib.dates import DateFormatter\n",
    "import matplotlib\n",
    "import matplotlib.pyplot as plt\n",
    "plt.style.use('seaborn-whitegrid')\n",
    "import seaborn as sns\n",
    "from dateutil.parser import parse\n",
    "import time\n",
    "from datetime import datetime, timezone\n",
    "from dateutil import parser\n",
    "import oandapyV20.endpoints.instruments as instruments\n",
    "import configparser\n",
    "import json\n",
    "from oandapyV20 import API\n",
    "import oandapyV20.endpoints.positions as positions\n",
    "import oandapyV20.endpoints.trades as trades\n",
    "from oandapyV20.endpoints.pricing import PricingStream\n",
    "import oandapyV20.endpoints.orders as orders\n",
    "import oandapyV20.endpoints.accounts as accounts\n",
    "from oandapyV20.contrib.factories import InstrumentsCandlesFactory\n",
    "from oandapyV20.contrib.requests import MarketOrderRequest, TrailingStopLossDetails\n",
    "from oandapyV20.exceptions import V20Error, StreamTerminated\n",
    "import sqlite3\n",
    "from collections import OrderedDict, ChainMap"
   ]
  },
  {
   "cell_type": "code",
   "execution_count": 2,
   "metadata": {},
   "outputs": [],
   "source": [
    "#https://oanda-api-v20.readthedocs.io/en/latest/index.html\n",
    "config = configparser.ConfigParser()\n",
    "config.read('oanda.cfg')\n",
    "\n",
    "client = API(access_token=config['oanda']['access_token'])"
   ]
  },
  {
   "cell_type": "code",
   "execution_count": 3,
   "metadata": {},
   "outputs": [],
   "source": [
    "def get_data(_from, _to, granularity, instrument, save_csv=False):\n",
    "    \"\"\"\n",
    "        Collect historical data for training\n",
    "        _from=\"2018-01-01 00:00\"    date and time to start collecting candles\n",
    "        _to=\"\"                      date and time to end the collection of candles, if \"\", then end will be now.\n",
    "        save_csv if True will save csv file in current folder\n",
    "    \"\"\"\n",
    "    if _to == \"\":\n",
    "        _to = datetime.strptime(datetime.now().isoformat()[0:19] + \"Z\", '%Y-%m-%dT%H:%M:%SZ').strftime('%Y-%m-%dT%H:%M:%SZ')\n",
    "    else:\n",
    "        _to = datetime.strptime(parser.parse(_to).isoformat() + \"Z\", '%Y-%m-%dT%H:%M:%SZ').strftime('%Y-%m-%dT%H:%M:%SZ')\n",
    "    params = {\n",
    "    \"granularity\": granularity,\n",
    "    \"from\": datetime.strptime(parser.parse(_from).isoformat() + \"Z\", '%Y-%m-%dT%H:%M:%SZ').strftime('%Y-%m-%dT%H:%M:%SZ'),\n",
    "    \"to\": _to\n",
    "    }\n",
    "    \n",
    "    df = pd.DataFrame(columns=[\"Date\", 'Open', 'High', 'Low', 'Close', \"Volume\"])\n",
    "    for r in InstrumentsCandlesFactory(instrument=instrument, params=params):\n",
    "        rv = client.request(r)\n",
    "\n",
    "        results = [{\"Date\":candle['time'][0:19], \"Open\":float(candle['mid']['o']),\n",
    "                    \"High\":float(candle['mid']['h']), \"Low\":float(candle['mid']['l']),\n",
    "                   \"Close\":float(candle['mid']['c']), \"Volume\": float(candle['volume'])\n",
    "                   } for candle in r.response.get('candles')]\n",
    "        df = df.append(pd.DataFrame(results), ignore_index=True)\n",
    "    \n",
    "    df.set_index(\"Date\", inplace=True)\n",
    "    if save_csv:\n",
    "        df.to_csv(instrument + \"_\" + granularity + \".csv\")\n",
    "    return df"
   ]
  },
  {
   "cell_type": "code",
   "execution_count": 4,
   "metadata": {},
   "outputs": [],
   "source": [
    "start = \"2021-05-15 00:00\"    #date and time to start collecting candles\n",
    "end = \"\"    #date and time to end the collection of candles, if \"\", then end will be now.\n",
    "granularity = \"M15\"\n",
    "instrument = \"IN50_USD\"\n"
   ]
  },
  {
   "cell_type": "code",
   "execution_count": 5,
   "metadata": {},
   "outputs": [
    {
     "data": {
      "text/html": [
       "<div>\n",
       "<style scoped>\n",
       "    .dataframe tbody tr th:only-of-type {\n",
       "        vertical-align: middle;\n",
       "    }\n",
       "\n",
       "    .dataframe tbody tr th {\n",
       "        vertical-align: top;\n",
       "    }\n",
       "\n",
       "    .dataframe thead th {\n",
       "        text-align: right;\n",
       "    }\n",
       "</style>\n",
       "<table border=\"1\" class=\"dataframe\">\n",
       "  <thead>\n",
       "    <tr style=\"text-align: right;\">\n",
       "      <th></th>\n",
       "      <th>Open</th>\n",
       "      <th>High</th>\n",
       "      <th>Low</th>\n",
       "      <th>Close</th>\n",
       "      <th>Volume</th>\n",
       "    </tr>\n",
       "    <tr>\n",
       "      <th>Date</th>\n",
       "      <th></th>\n",
       "      <th></th>\n",
       "      <th></th>\n",
       "      <th></th>\n",
       "      <th></th>\n",
       "    </tr>\n",
       "  </thead>\n",
       "  <tbody>\n",
       "    <tr>\n",
       "      <th>2021-05-26T18:15:00</th>\n",
       "      <td>15348.1</td>\n",
       "      <td>15356.5</td>\n",
       "      <td>15344.5</td>\n",
       "      <td>15355.3</td>\n",
       "      <td>1605.0</td>\n",
       "    </tr>\n",
       "    <tr>\n",
       "      <th>2021-05-26T18:30:00</th>\n",
       "      <td>15355.5</td>\n",
       "      <td>15356.5</td>\n",
       "      <td>15352.6</td>\n",
       "      <td>15353.6</td>\n",
       "      <td>1870.0</td>\n",
       "    </tr>\n",
       "    <tr>\n",
       "      <th>2021-05-26T18:45:00</th>\n",
       "      <td>15353.4</td>\n",
       "      <td>15354.8</td>\n",
       "      <td>15346.8</td>\n",
       "      <td>15347.7</td>\n",
       "      <td>890.0</td>\n",
       "    </tr>\n",
       "    <tr>\n",
       "      <th>2021-05-26T19:00:00</th>\n",
       "      <td>15347.5</td>\n",
       "      <td>15349.0</td>\n",
       "      <td>15345.0</td>\n",
       "      <td>15349.0</td>\n",
       "      <td>424.0</td>\n",
       "    </tr>\n",
       "    <tr>\n",
       "      <th>2021-05-26T19:15:00</th>\n",
       "      <td>15348.8</td>\n",
       "      <td>15354.3</td>\n",
       "      <td>15346.0</td>\n",
       "      <td>15351.8</td>\n",
       "      <td>216.0</td>\n",
       "    </tr>\n",
       "  </tbody>\n",
       "</table>\n",
       "</div>"
      ],
      "text/plain": [
       "                        Open     High      Low    Close  Volume\n",
       "Date                                                           \n",
       "2021-05-26T18:15:00  15348.1  15356.5  15344.5  15355.3  1605.0\n",
       "2021-05-26T18:30:00  15355.5  15356.5  15352.6  15353.6  1870.0\n",
       "2021-05-26T18:45:00  15353.4  15354.8  15346.8  15347.7   890.0\n",
       "2021-05-26T19:00:00  15347.5  15349.0  15345.0  15349.0   424.0\n",
       "2021-05-26T19:15:00  15348.8  15354.3  15346.0  15351.8   216.0"
      ]
     },
     "execution_count": 5,
     "metadata": {},
     "output_type": "execute_result"
    }
   ],
   "source": [
    "df = get_data(_from=start, _to=end, granularity=granularity, instrument=instrument, save_csv=False)\n",
    "date_ori = pd.to_datetime(df.iloc[:, 0]).tolist() \n",
    "df.tail()"
   ]
  },
  {
   "cell_type": "code",
   "execution_count": null,
   "metadata": {},
   "outputs": [],
   "source": []
  },
  {
   "cell_type": "markdown",
   "metadata": {},
   "source": [
    "### Example 2. Renko chart using history data and auto-brick-size (ATR approach)"
   ]
  },
  {
   "cell_type": "code",
   "execution_count": 6,
   "metadata": {},
   "outputs": [
    {
     "name": "stdout",
     "output_type": "stream",
     "text": [
      "Set brick size to optimal:  20.971003129441385\n",
      "Renko bar prices:  [14816.7, 14795.728996870559, 14774.757993741117, 14753.786990611676, 14795.728996870559, 14816.7, 14837.671003129442, 14858.642006258884, 14879.613009388326, 14900.584012517767, 14921.555015647209, 14942.52601877665, 14963.497021906092, 14984.468025035534, 15005.439028164976, 15026.410031294417, 15047.38103442386, 15068.3520375533, 15089.323040682742, 15110.294043812184, 15131.265046941626, 15152.236050071067, 15173.20705320051, 15131.265046941626, 15110.294043812184, 15152.236050071067, 15110.294043812184, 15089.323040682742, 15068.3520375533, 15110.294043812184, 15131.265046941626, 15089.323040682742, 15068.3520375533, 15047.38103442386, 15026.410031294417, 15005.439028164976, 15047.38103442386, 15068.3520375533, 15089.323040682742, 15047.38103442386, 15026.410031294417, 15005.439028164976, 14984.468025035534, 14963.497021906092, 14942.52601877665, 14984.468025035534, 15005.439028164976, 15026.410031294417, 15047.38103442386, 15068.3520375533, 15026.410031294417, 15005.439028164976, 15047.38103442386, 15068.3520375533, 15089.323040682742, 15110.294043812184, 15131.265046941626, 15152.236050071067, 15173.20705320051, 15194.17805632995, 15215.149059459392, 15173.20705320051, 15152.236050071067, 15131.265046941626, 15110.294043812184, 15152.236050071067, 15173.20705320051, 15194.17805632995, 15215.149059459392, 15236.120062588834, 15194.17805632995, 15236.120062588834, 15257.091065718276, 15278.062068847717, 15299.03307197716, 15257.091065718276, 15236.120062588834, 15215.149059459392, 15194.17805632995, 15236.120062588834, 15194.17805632995, 15173.20705320051, 15215.149059459392, 15236.120062588834, 15257.091065718276, 15278.062068847717, 15299.03307197716, 15320.0040751066, 15340.975078236042]\n",
      "Renko bar directions:  [0, -1, -1, -1, 1, 1, 1, 1, 1, 1, 1, 1, 1, 1, 1, 1, 1, 1, 1, 1, 1, 1, 1, -1, -1, 1, -1, -1, -1, 1, 1, -1, -1, -1, -1, -1, 1, 1, 1, -1, -1, -1, -1, -1, -1, 1, 1, 1, 1, 1, -1, -1, 1, 1, 1, 1, 1, 1, 1, 1, 1, -1, -1, -1, -1, 1, 1, 1, 1, 1, -1, 1, 1, 1, 1, -1, -1, -1, -1, 1, -1, -1, 1, 1, 1, 1, 1, 1, 1]\n",
      "Renko bar evaluation:  {'balance': 30, 'sign_changes:': 19, 'price_ratio': 6.955056179775281, 'score': 1.837416607330332}\n"
     ]
    }
   ],
   "source": [
    "\n",
    "# Get data for last years\n",
    "data = df\n",
    "\n",
    "# Get optimal brick size based\n",
    "optimal_brick = pyrenko.renko().set_brick_size(auto = True, HLC_history = data[[\"High\", \"Low\", \"Close\"]])\n",
    "\n",
    "# Build Renko chart\n",
    "renko_obj_atr = pyrenko.renko()\n",
    "print('Set brick size to optimal: ', renko_obj_atr.set_brick_size(auto = False, brick_size = optimal_brick))\n",
    "renko_obj_atr.build_history(prices = data.Close)\n",
    "print('Renko bar prices: ', renko_obj_atr.get_renko_prices())\n",
    "print('Renko bar directions: ', renko_obj_atr.get_renko_directions())\n",
    "print('Renko bar evaluation: ', renko_obj_atr.evaluate())\n",
    "\n"
   ]
  },
  {
   "cell_type": "code",
   "execution_count": 7,
   "metadata": {},
   "outputs": [
    {
     "data": {
      "image/png": "[encoded data removed]",
      "text/plain": [
       "<Figure size 1440x720 with 1 Axes>"
      ]
     },
     "metadata": {},
     "output_type": "display_data"
    }
   ],
   "source": [
    "if len(renko_obj_atr.get_renko_prices()) > 1:\n",
    "    renko_obj_atr.plot_renko()"
   ]
  },
  {
   "cell_type": "code",
   "execution_count": 8,
   "metadata": {},
   "outputs": [
    {
     "name": "stdout",
     "output_type": "stream",
     "text": [
      "Set brick size to optimal:  15.959534537017927\n",
      "Renko bar prices:  [14816.7, 14800.740465462983, 14784.780930925965, 14768.821396388947, 14752.861861851929, 14784.780930925965, 14800.740465462983, 14816.7, 14832.659534537019, 14848.619069074037, 14864.578603611055, 14880.538138148073, 14896.497672685091, 14912.457207222109, 14928.416741759127, 14944.376276296145, 14912.457207222109, 14944.376276296145, 14960.335810833163, 14976.295345370181, 14992.2548799072, 15008.214414444217, 15024.173948981235, 15040.133483518253, 15056.093018055271, 15072.05255259229, 15088.012087129307, 15103.971621666326, 15119.931156203344, 15135.890690740362, 15103.971621666326, 15135.890690740362, 15151.85022527738, 15167.809759814398, 15135.890690740362, 15119.931156203344, 15103.971621666326, 15135.890690740362, 15151.85022527738, 15119.931156203344, 15103.971621666326, 15088.012087129307, 15072.05255259229, 15103.971621666326, 15119.931156203344, 15135.890690740362, 15103.971621666326, 15088.012087129307, 15072.05255259229, 15056.093018055271, 15040.133483518253, 15024.173948981235, 15008.214414444217, 14992.2548799072, 15024.173948981235, 15040.133483518253, 15056.093018055271, 15072.05255259229, 15088.012087129307, 15056.093018055271, 15040.133483518253, 15072.05255259229, 15040.133483518253, 15024.173948981235, 15008.214414444217, 15040.133483518253, 15008.214414444217, 14992.2548799072, 14976.295345370181, 14960.335810833163, 14944.376276296145, 14976.295345370181, 14992.2548799072, 15008.214414444217, 15024.173948981235, 15040.133483518253, 15056.093018055271, 15024.173948981235, 15008.214414444217, 15040.133483518253, 15056.093018055271, 15072.05255259229, 15088.012087129307, 15103.971621666326, 15119.931156203344, 15135.890690740362, 15151.85022527738, 15167.809759814398, 15183.769294351416, 15199.728828888434, 15215.688363425452, 15231.64789796247, 15199.728828888434, 15183.769294351416, 15167.809759814398, 15151.85022527738, 15135.890690740362, 15119.931156203344, 15103.971621666326, 15135.890690740362, 15151.85022527738, 15167.809759814398, 15183.769294351416, 15151.85022527738, 15183.769294351416, 15199.728828888434, 15215.688363425452, 15183.769294351416, 15215.688363425452, 15231.64789796247, 15247.607432499488, 15215.688363425452, 15199.728828888434, 15183.769294351416, 15215.688363425452, 15231.64789796247, 15247.607432499488, 15263.566967036506, 15279.526501573524, 15295.486036110542, 15263.566967036506, 15247.607432499488, 15231.64789796247, 15215.688363425452, 15199.728828888434, 15183.769294351416, 15215.688363425452, 15231.64789796247, 15199.728828888434, 15183.769294351416, 15167.809759814398, 15199.728828888434, 15215.688363425452, 15231.64789796247, 15247.607432499488, 15263.566967036506, 15279.526501573524, 15295.486036110542, 15311.44557064756, 15327.405105184578, 15343.364639721596]\n",
      "Renko bar directions:  [0, -1, -1, -1, -1, 1, 1, 1, 1, 1, 1, 1, 1, 1, 1, 1, -1, 1, 1, 1, 1, 1, 1, 1, 1, 1, 1, 1, 1, 1, -1, 1, 1, 1, -1, -1, -1, 1, 1, -1, -1, -1, -1, 1, 1, 1, -1, -1, -1, -1, -1, -1, -1, -1, 1, 1, 1, 1, 1, -1, -1, 1, -1, -1, -1, 1, -1, -1, -1, -1, -1, 1, 1, 1, 1, 1, 1, -1, -1, 1, 1, 1, 1, 1, 1, 1, 1, 1, 1, 1, 1, 1, -1, -1, -1, -1, -1, -1, -1, 1, 1, 1, 1, -1, 1, 1, 1, -1, 1, 1, 1, -1, -1, -1, 1, 1, 1, 1, 1, 1, -1, -1, -1, -1, -1, -1, 1, 1, -1, -1, -1, 1, 1, 1, 1, 1, 1, 1, 1, 1, 1]\n",
      "Renko bar evaluation:  {'balance': 46, 'sign_changes:': 31, 'price_ratio': 4.390070921985815, 'score': 1.345935378602412}\n"
     ]
    }
   ],
   "source": [
    "# Function for optimization\n",
    "def evaluate_renko(brick, history, column_name):\n",
    "    renko_obj = pyrenko.renko()\n",
    "    renko_obj.set_brick_size(brick_size = brick, auto = False)\n",
    "    renko_obj.build_history(prices = history)\n",
    "    return renko_obj.evaluate()[column_name]\n",
    "\n",
    "# Get ATR values (it needs to get boundaries)\n",
    "# Drop NaNs\n",
    "atr = talib.ATR(high = np.double(data.High),\n",
    "                low = np.double(data.Low),\n",
    "                close = np.double(data.Close),\n",
    "                timeperiod = 14)\n",
    "atr = atr[np.isnan(atr) == False]\n",
    "\n",
    "# Get optimal brick size as maximum of score function by Brent's (or similar) method\n",
    "# First and Last ATR values are used as the boundaries\n",
    "optimal_brick_sfo = opt.fminbound(lambda x: -evaluate_renko(brick = x, \n",
    "                                                            history = data.Close, column_name = 'score'), \n",
    "                                  np.min(atr), np.max(atr), disp=0)\n",
    "# Build Renko chart\n",
    "renko_obj_sfo = pyrenko.renko()\n",
    "print('Set brick size to optimal: ', renko_obj_sfo.set_brick_size(auto = False, brick_size = optimal_brick_sfo))\n",
    "renko_obj_sfo.build_history(prices = data.Close)\n",
    "print('Renko bar prices: ', renko_obj_sfo.get_renko_prices())\n",
    "print('Renko bar directions: ', renko_obj_sfo.get_renko_directions())\n",
    "print('Renko bar evaluation: ', renko_obj_sfo.evaluate())\n"
   ]
  },
  {
   "cell_type": "markdown",
   "metadata": {},
   "source": [
    "Score value is not the same. This approach has greater score value than ATR."
   ]
  },
  {
   "cell_type": "code",
   "execution_count": 9,
   "metadata": {},
   "outputs": [
    {
     "data": {
      "image/png": "[encoded data removed]",
      "text/plain": [
       "<Figure size 1440x720 with 1 Axes>"
      ]
     },
     "metadata": {},
     "output_type": "display_data"
    }
   ],
   "source": [
    "if len(renko_obj_sfo.get_renko_prices()) > 1:\n",
    "    renko_obj_sfo.plot_renko()"
   ]
  },
  {
   "cell_type": "code",
   "execution_count": null,
   "metadata": {},
   "outputs": [],
   "source": []
  },
  {
   "cell_type": "code",
   "execution_count": null,
   "metadata": {},
   "outputs": [],
   "source": []
  }
 ],
 "metadata": {
  "kernelspec": {
   "display_name": "Python 3",
   "language": "python",
   "name": "python3"
  },
  "language_info": {
   "codemirror_mode": {
    "name": "ipython",
    "version": 3
   },
   "file_extension": ".py",
   "mimetype": "text/x-python",
   "name": "python",
   "nbconvert_exporter": "python",
   "pygments_lexer": "ipython3",
   "version": "3.8.3"
  }
 },
 "nbformat": 4,
 "nbformat_minor": 2
}
